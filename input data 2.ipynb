{
 "cells": [
  {
   "cell_type": "markdown",
   "metadata": {},
   "source": [
    "Input Data Menggunakan Python -2 \n"
   ]
  },
  {
   "cell_type": "markdown",
   "metadata": {},
   "source": [
    "dr. I Gede Eka Agung Agastya Punia, S.H., M.H."
   ]
  },
  {
   "cell_type": "markdown",
   "metadata": {},
   "source": [
    "Karena dataset yang kita upload terlalu banyak, maka kita memerlukan waktu cukup banyak untuk membuat sebuah dataset untuk menganalisa sebuah data. Oleh karena itu ada baiknya kita langsung mengimpor data dari .xlsx atau .csv. untuk itu kita memerlukan untuk menginstall library Pandas"
   ]
  },
  {
   "cell_type": "markdown",
   "metadata": {},
   "source": [
    "Sebelum dimulai install dahulu library pandas ke komputer dengan menulis di command prompt -py -m -pip install pandas"
   ]
  },
  {
   "cell_type": "markdown",
   "metadata": {},
   "source": [
    "Lalu kita import ke dalam python menjadi sebagai berikut"
   ]
  },
  {
   "cell_type": "code",
   "execution_count": 1,
   "metadata": {},
   "outputs": [],
   "source": [
    "import pandas as pd"
   ]
  },
  {
   "cell_type": "markdown",
   "metadata": {},
   "source": [
    "Lalu kita save us excel kita dari nama RoyalCollege.xlsx lalu save as dengan nama RoyalCollege.csv. kemudian kita impor datanya dengan menggunakan read_csv. Pastikan file python dan csv terdapat di dalam folder yang sama"
   ]
  },
  {
   "cell_type": "code",
   "execution_count": 2,
   "metadata": {},
   "outputs": [],
   "source": [
    "data = pd.read_csv('RoyalCollege.csv')"
   ]
  },
  {
   "cell_type": "markdown",
   "metadata": {},
   "source": [
    "Setelah itu kita print dan lihat hasilnya"
   ]
  },
  {
   "cell_type": "code",
   "execution_count": 3,
   "metadata": {},
   "outputs": [
    {
     "name": "stdout",
     "output_type": "stream",
     "text": [
      "        nama         jk  usia    bb     tb pendidikan  ajar\n",
      "0       Karl  Laki-Laki    32  60.5  188.9     Doktor     6\n",
      "1      Boris  Laki-Laki    57  50.9  185.2   Magister     2\n",
      "2  Theoderic  Laki-Laki    50  49.5  179.2   Magister     3\n",
      "3     Helmut  Laki-Laki    46  50.0  178.3   Magister     1\n",
      "4    Wolfram  Laki-Laki    34  40.7  176.6   Magister     3\n",
      "5     Marius  Laki-Laki    40  46.7  179.3   Magister     4\n",
      "6  Emanuelle  Perempuan    27  45.5  165.4     Doktor     7\n",
      "7  Aldebrand  Laki-Laki    63  49.7  187.4   Magister     3\n",
      "8     Valmir  Laki-Laki    62  54.3  188.2   Magister     1\n",
      "9   Alberich  Laki-Laki    20  32.0  183.1    Sarjana     1\n"
     ]
    }
   ],
   "source": [
    "print (data)"
   ]
  },
  {
   "cell_type": "code",
   "execution_count": 7,
   "metadata": {},
   "outputs": [
    {
     "data": {
      "text/html": [
       "<div>\n",
       "<style scoped>\n",
       "    .dataframe tbody tr th:only-of-type {\n",
       "        vertical-align: middle;\n",
       "    }\n",
       "\n",
       "    .dataframe tbody tr th {\n",
       "        vertical-align: top;\n",
       "    }\n",
       "\n",
       "    .dataframe thead th {\n",
       "        text-align: right;\n",
       "    }\n",
       "</style>\n",
       "<table border=\"1\" class=\"dataframe\">\n",
       "  <thead>\n",
       "    <tr style=\"text-align: right;\">\n",
       "      <th></th>\n",
       "      <th>nama</th>\n",
       "      <th>jk</th>\n",
       "      <th>usia</th>\n",
       "      <th>bb</th>\n",
       "      <th>tb</th>\n",
       "      <th>pendidikan</th>\n",
       "      <th>ajar</th>\n",
       "    </tr>\n",
       "  </thead>\n",
       "  <tbody>\n",
       "    <tr>\n",
       "      <th>0</th>\n",
       "      <td>Karl</td>\n",
       "      <td>Laki-Laki</td>\n",
       "      <td>32</td>\n",
       "      <td>60.5</td>\n",
       "      <td>188.9</td>\n",
       "      <td>Doktor</td>\n",
       "      <td>6</td>\n",
       "    </tr>\n",
       "    <tr>\n",
       "      <th>1</th>\n",
       "      <td>Boris</td>\n",
       "      <td>Laki-Laki</td>\n",
       "      <td>57</td>\n",
       "      <td>50.9</td>\n",
       "      <td>185.2</td>\n",
       "      <td>Magister</td>\n",
       "      <td>2</td>\n",
       "    </tr>\n",
       "    <tr>\n",
       "      <th>2</th>\n",
       "      <td>Theoderic</td>\n",
       "      <td>Laki-Laki</td>\n",
       "      <td>50</td>\n",
       "      <td>49.5</td>\n",
       "      <td>179.2</td>\n",
       "      <td>Magister</td>\n",
       "      <td>3</td>\n",
       "    </tr>\n",
       "    <tr>\n",
       "      <th>3</th>\n",
       "      <td>Helmut</td>\n",
       "      <td>Laki-Laki</td>\n",
       "      <td>46</td>\n",
       "      <td>50.0</td>\n",
       "      <td>178.3</td>\n",
       "      <td>Magister</td>\n",
       "      <td>1</td>\n",
       "    </tr>\n",
       "    <tr>\n",
       "      <th>4</th>\n",
       "      <td>Wolfram</td>\n",
       "      <td>Laki-Laki</td>\n",
       "      <td>34</td>\n",
       "      <td>40.7</td>\n",
       "      <td>176.6</td>\n",
       "      <td>Magister</td>\n",
       "      <td>3</td>\n",
       "    </tr>\n",
       "    <tr>\n",
       "      <th>5</th>\n",
       "      <td>Marius</td>\n",
       "      <td>Laki-Laki</td>\n",
       "      <td>40</td>\n",
       "      <td>46.7</td>\n",
       "      <td>179.3</td>\n",
       "      <td>Magister</td>\n",
       "      <td>4</td>\n",
       "    </tr>\n",
       "    <tr>\n",
       "      <th>6</th>\n",
       "      <td>Emanuelle</td>\n",
       "      <td>Perempuan</td>\n",
       "      <td>27</td>\n",
       "      <td>45.5</td>\n",
       "      <td>165.4</td>\n",
       "      <td>Doktor</td>\n",
       "      <td>7</td>\n",
       "    </tr>\n",
       "    <tr>\n",
       "      <th>7</th>\n",
       "      <td>Aldebrand</td>\n",
       "      <td>Laki-Laki</td>\n",
       "      <td>63</td>\n",
       "      <td>49.7</td>\n",
       "      <td>187.4</td>\n",
       "      <td>Magister</td>\n",
       "      <td>3</td>\n",
       "    </tr>\n",
       "    <tr>\n",
       "      <th>8</th>\n",
       "      <td>Valmir</td>\n",
       "      <td>Laki-Laki</td>\n",
       "      <td>62</td>\n",
       "      <td>54.3</td>\n",
       "      <td>188.2</td>\n",
       "      <td>Magister</td>\n",
       "      <td>1</td>\n",
       "    </tr>\n",
       "    <tr>\n",
       "      <th>9</th>\n",
       "      <td>Alberich</td>\n",
       "      <td>Laki-Laki</td>\n",
       "      <td>20</td>\n",
       "      <td>32.0</td>\n",
       "      <td>183.1</td>\n",
       "      <td>Sarjana</td>\n",
       "      <td>1</td>\n",
       "    </tr>\n",
       "  </tbody>\n",
       "</table>\n",
       "</div>"
      ],
      "text/plain": [
       "        nama         jk  usia    bb     tb pendidikan  ajar\n",
       "0       Karl  Laki-Laki    32  60.5  188.9     Doktor     6\n",
       "1      Boris  Laki-Laki    57  50.9  185.2   Magister     2\n",
       "2  Theoderic  Laki-Laki    50  49.5  179.2   Magister     3\n",
       "3     Helmut  Laki-Laki    46  50.0  178.3   Magister     1\n",
       "4    Wolfram  Laki-Laki    34  40.7  176.6   Magister     3\n",
       "5     Marius  Laki-Laki    40  46.7  179.3   Magister     4\n",
       "6  Emanuelle  Perempuan    27  45.5  165.4     Doktor     7\n",
       "7  Aldebrand  Laki-Laki    63  49.7  187.4   Magister     3\n",
       "8     Valmir  Laki-Laki    62  54.3  188.2   Magister     1\n",
       "9   Alberich  Laki-Laki    20  32.0  183.1    Sarjana     1"
      ]
     },
     "execution_count": 7,
     "metadata": {},
     "output_type": "execute_result"
    }
   ],
   "source": [
    "data"
   ]
  },
  {
   "cell_type": "markdown",
   "metadata": {},
   "source": [
    "Lihatlah hasil dari import data dengan menggunakan read_csv. Import data ke dalam python dapat dilakukan lebih cepat dibandingkan memasukkan datanya secara manual. Berikutnya kita akan melakukan data transformation pada python"
   ]
  }
 ],
 "metadata": {
  "kernelspec": {
   "display_name": "Python 3",
   "language": "python",
   "name": "python3"
  },
  "language_info": {
   "codemirror_mode": {
    "name": "ipython",
    "version": 3
   },
   "file_extension": ".py",
   "mimetype": "text/x-python",
   "name": "python",
   "nbconvert_exporter": "python",
   "pygments_lexer": "ipython3",
   "version": "3.12.5"
  }
 },
 "nbformat": 4,
 "nbformat_minor": 2
}
