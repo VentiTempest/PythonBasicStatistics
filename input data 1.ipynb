{
 "cells": [
  {
   "cell_type": "markdown",
   "metadata": {},
   "source": [
    "INPUT DATA MENGGUNAKAN PYTHON"
   ]
  },
  {
   "cell_type": "markdown",
   "metadata": {},
   "source": [
    "dr. I Gede Eka Agung Agastya Punia, S.H., M.H."
   ]
  },
  {
   "cell_type": "markdown",
   "metadata": {},
   "source": [
    "Dalam melakukan input data menggunakan python maka kita akan buat dengan teknik koding sederhana.\n",
    "Format input kita buat sebagai berikut\n",
    "data = {\n",
    "    '(Nama kategori data)' : ['(data1)','(data2)',....]\n",
    "}\n",
    " Kita coba input data nama dalam Royal College of Altdorf sebagai berikut"
   ]
  },
  {
   "cell_type": "code",
   "execution_count": 2,
   "metadata": {},
   "outputs": [],
   "source": [
    "data = {\n",
    "    'name':['Karl','Boris','Theoderic','Helmut','Wolfram','Marius','Emanuelle','Aldebrand','Valmir','Alberich']\n",
    "}"
   ]
  },
  {
   "cell_type": "markdown",
   "metadata": {},
   "source": [
    "Dengan begitu kita sudah menginput data \"Name\" dalam variabel \"data\". Kita lanjutkan ke berikutnya. Berikutnya adalah jenis kelamin. Tambahkan koma dibelakang bagian name. Lalu sesuaikan nama dengan jenis kelamin sehingga data tidak tertukar."
   ]
  },
  {
   "cell_type": "code",
   "execution_count": 3,
   "metadata": {},
   "outputs": [],
   "source": [
    "data = {\n",
    "    'name': ['Karl','Boris','Theoderic','Helmut','Wolfram','Marius','Emanuelle','Aldebrand','Valmir','Alberich'],\n",
    "    'jenis kelamin': ['Laki-Laki','Laki-Laki','Laki-Laki','Laki-Laki','Laki-Laki','Laki-Laki','Perempuan','Laki-Laki','Laki-Laki','Laki-Laki']\n",
    "}"
   ]
  },
  {
   "cell_type": "markdown",
   "metadata": {},
   "source": [
    "Mari kita cek apakah data kita sudah terinput dengan melihat isi variabel data dengan mengetik print(data)"
   ]
  },
  {
   "cell_type": "code",
   "execution_count": 12,
   "metadata": {},
   "outputs": [
    {
     "name": "stdout",
     "output_type": "stream",
     "text": [
      "{'name': ['Karl', 'Boris', 'Theoderic', 'Helmut', 'Wolfram', 'Marius', 'Emanuelle', 'Aldebrand', 'Valmir', 'Alberich'], 'jenis kelamin': ['Laki-Laki', 'Laki-Laki', 'Laki-Laki', 'Laki-Laki', 'Laki-Laki', 'Laki-Laki', 'Perempuan', 'Laki-Laki', 'Laki-Laki', 'Laki-Laki']}\n"
     ]
    }
   ],
   "source": [
    "print(data)"
   ]
  },
  {
   "cell_type": "markdown",
   "metadata": {},
   "source": [
    "Dengan begitu selamat! kita telah menginput data name dan jenis kelamin ke python. akan tetapi kita dapat menyajikan data tersebut dalam bentuk dataframes. Untuk menyajikan data tersebut dalam dataframes maka kita akan mengimpor pandas kedalam python\n",
    "\n",
    "Sebelum upload pastikan jumlah data di setiap kategori sama agar pandas tidak menunjukkan error apabila kita memasukkan data ke dalam python"
   ]
  },
  {
   "cell_type": "markdown",
   "metadata": {},
   "source": [
    "Sebelum dimulai install dahulu library pandas ke komputer dengan menulis di command prompt -py -m -pip install pandas"
   ]
  },
  {
   "cell_type": "code",
   "execution_count": 4,
   "metadata": {},
   "outputs": [],
   "source": [
    "import pandas as pd"
   ]
  },
  {
   "cell_type": "markdown",
   "metadata": {},
   "source": [
    "Lalu kita masukkan kode ke dalam bentuk pd dengan sebagai berikut"
   ]
  },
  {
   "cell_type": "code",
   "execution_count": 5,
   "metadata": {},
   "outputs": [],
   "source": [
    "df = pd.DataFrame(data)"
   ]
  },
  {
   "cell_type": "markdown",
   "metadata": {},
   "source": [
    "Lalu kita print \"df\" dan kita lihat hasil dataframenya sebagai berikut. dan lakukan df.head() untuk melihat hasil head dataframenya"
   ]
  },
  {
   "cell_type": "code",
   "execution_count": 15,
   "metadata": {},
   "outputs": [
    {
     "name": "stdout",
     "output_type": "stream",
     "text": [
      "        name jenis kelamin\n",
      "0       Karl     Laki-Laki\n",
      "1      Boris     Laki-Laki\n",
      "2  Theoderic     Laki-Laki\n",
      "3     Helmut     Laki-Laki\n",
      "4    Wolfram     Laki-Laki\n",
      "5     Marius     Laki-Laki\n",
      "6  Emanuelle     Perempuan\n",
      "7  Aldebrand     Laki-Laki\n",
      "8     Valmir     Laki-Laki\n",
      "9   Alberich     Laki-Laki\n"
     ]
    }
   ],
   "source": [
    "print(df)"
   ]
  },
  {
   "cell_type": "code",
   "execution_count": 6,
   "metadata": {},
   "outputs": [
    {
     "data": {
      "text/html": [
       "<div>\n",
       "<style scoped>\n",
       "    .dataframe tbody tr th:only-of-type {\n",
       "        vertical-align: middle;\n",
       "    }\n",
       "\n",
       "    .dataframe tbody tr th {\n",
       "        vertical-align: top;\n",
       "    }\n",
       "\n",
       "    .dataframe thead th {\n",
       "        text-align: right;\n",
       "    }\n",
       "</style>\n",
       "<table border=\"1\" class=\"dataframe\">\n",
       "  <thead>\n",
       "    <tr style=\"text-align: right;\">\n",
       "      <th></th>\n",
       "      <th>name</th>\n",
       "      <th>jenis kelamin</th>\n",
       "    </tr>\n",
       "  </thead>\n",
       "  <tbody>\n",
       "    <tr>\n",
       "      <th>0</th>\n",
       "      <td>Karl</td>\n",
       "      <td>Laki-Laki</td>\n",
       "    </tr>\n",
       "    <tr>\n",
       "      <th>1</th>\n",
       "      <td>Boris</td>\n",
       "      <td>Laki-Laki</td>\n",
       "    </tr>\n",
       "    <tr>\n",
       "      <th>2</th>\n",
       "      <td>Theoderic</td>\n",
       "      <td>Laki-Laki</td>\n",
       "    </tr>\n",
       "    <tr>\n",
       "      <th>3</th>\n",
       "      <td>Helmut</td>\n",
       "      <td>Laki-Laki</td>\n",
       "    </tr>\n",
       "    <tr>\n",
       "      <th>4</th>\n",
       "      <td>Wolfram</td>\n",
       "      <td>Laki-Laki</td>\n",
       "    </tr>\n",
       "    <tr>\n",
       "      <th>5</th>\n",
       "      <td>Marius</td>\n",
       "      <td>Laki-Laki</td>\n",
       "    </tr>\n",
       "    <tr>\n",
       "      <th>6</th>\n",
       "      <td>Emanuelle</td>\n",
       "      <td>Perempuan</td>\n",
       "    </tr>\n",
       "    <tr>\n",
       "      <th>7</th>\n",
       "      <td>Aldebrand</td>\n",
       "      <td>Laki-Laki</td>\n",
       "    </tr>\n",
       "    <tr>\n",
       "      <th>8</th>\n",
       "      <td>Valmir</td>\n",
       "      <td>Laki-Laki</td>\n",
       "    </tr>\n",
       "    <tr>\n",
       "      <th>9</th>\n",
       "      <td>Alberich</td>\n",
       "      <td>Laki-Laki</td>\n",
       "    </tr>\n",
       "  </tbody>\n",
       "</table>\n",
       "</div>"
      ],
      "text/plain": [
       "        name jenis kelamin\n",
       "0       Karl     Laki-Laki\n",
       "1      Boris     Laki-Laki\n",
       "2  Theoderic     Laki-Laki\n",
       "3     Helmut     Laki-Laki\n",
       "4    Wolfram     Laki-Laki\n",
       "5     Marius     Laki-Laki\n",
       "6  Emanuelle     Perempuan\n",
       "7  Aldebrand     Laki-Laki\n",
       "8     Valmir     Laki-Laki\n",
       "9   Alberich     Laki-Laki"
      ]
     },
     "execution_count": 6,
     "metadata": {},
     "output_type": "execute_result"
    }
   ],
   "source": [
    "df"
   ]
  },
  {
   "cell_type": "markdown",
   "metadata": {},
   "source": [
    "Lihat hasil data yang kita input. Data tersebut muncul dalam bentuk tabel. Selanjutnya kita akan menggunakan pandas untuk mengimpor data dalam bentuk .xlsx dan .csv ke dalam python"
   ]
  }
 ],
 "metadata": {
  "kernelspec": {
   "display_name": "Python 3",
   "language": "python",
   "name": "python3"
  },
  "language_info": {
   "codemirror_mode": {
    "name": "ipython",
    "version": 3
   },
   "file_extension": ".py",
   "mimetype": "text/x-python",
   "name": "python",
   "nbconvert_exporter": "python",
   "pygments_lexer": "ipython3",
   "version": "3.12.5"
  }
 },
 "nbformat": 4,
 "nbformat_minor": 2
}
